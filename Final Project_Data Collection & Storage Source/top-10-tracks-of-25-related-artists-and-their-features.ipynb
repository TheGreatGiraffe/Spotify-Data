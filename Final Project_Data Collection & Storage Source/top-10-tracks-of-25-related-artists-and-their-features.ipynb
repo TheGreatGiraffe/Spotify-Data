{
 "cells": [
  {
   "cell_type": "code",
   "execution_count": null,
   "metadata": {
    "collapsed": true
   },
   "outputs": [],
   "source": [
    "#!/usr/bin/env python3\n",
    "# -*- coding: utf-8 -*-\n",
    "# by Wuyi Zhang\n",
    "\n",
    "import json\n",
    "import oauth2 as oauth\n",
    "import requests\n",
    "import pandas as pd\n",
    "import spotipy\n",
    "from spotipy.oauth2 import SpotifyClientCredentials"
   ]
  },
  {
   "cell_type": "code",
   "execution_count": null,
   "metadata": {
    "collapsed": true
   },
   "outputs": [],
   "source": [
    "# Specify five artists\n",
    "fiveArtists = ['Drake', 'Justin Biber', 'Rihanna', 'Twenty One Pilots', 'Kanye West']\n",
    "\n",
    "# Specify top five artists related to each of privious five artists respectively\n",
    "twentyFiveRelatedArtists = ['The Weeknd', 'Kendrick Lamar', 'Future', 'G-Eazy',\n",
    "                            'Frank Ocean', 'Cody Simpson', 'Selena Gomez', 'Jason Derulo',\n",
    "                            'One Direction', 'Miley Cyrus', 'The Pussycat Dolls','Ciara',\n",
    "                            'Fergie', 'Beyonc\\u00e9', 'Destiny\\'s Child', 'The Neighbourhood',\n",
    "                            'Panic! At The Disco', 'Halsey', 'X Ambassadors', 'Bad Suns',\n",
    "                            'JAY Z', 'Kid Cudi', 'Drake', 'J. Cole', 'Big Sean']\n",
    "\n",
    "# Specify related artists' ids\n",
    "twentyFiveRelatedArtistsIds = ['1Xyo4u8uXC1ZmMpatF05PJ', '2YZyLoL8N0Wb9xBt1NhZWg', \n",
    "                               '1RyvyyTE3xzB2ZywiAwp0i', '02kJSzxNuaWGqwubyUba0Z',\n",
    "                               '2h93pZq0e7k5yf4dywlkpM', '79Xp2rRN7wdsaTJgttdX3K',\n",
    "                               '0C8ZW7ezQVs4URX5aX7Kqx', '07YZf4WDAMNwqr4jfgOZ8y',\n",
    "                               '4AK6F7OLvEQ5QYCBNiQWHq', '5YGY8feqx7naU7z4HrwZM6',\n",
    "                               '6wPhSqRtPu1UhRCDX5yaDJ', '2NdeV5rLm47xAvogXrYhJX',\n",
    "                               '3r17AfJCCUqC9Lf0OAc73G', '6vWDO969PvNqNYHIOW5v0m',\n",
    "                               '1Y8cdNmUJH7yBTd9yOvr5i', '77SW9BnxLY8rJ0RciFqkHh',\n",
    "                               '20JZFwl6HVl6yg8a4H3ZqK', '26VFTg2z8YR0cCuwLzESi2',\n",
    "                               '3NPpFNZtSTHheNBaWC82rB', '0YhUSm86okLWldQVwJkLlP',\n",
    "                               '3nFkdlSjzX9mRTtwJOzDYB', '0fA0VVWsXO9YnASrzqfmYu',\n",
    "                               '3TVXtAsR1Inumwj472S9r4', '6l3HvQ5sa6mXTsMTB19rO5',\n",
    "                               '0c173mlxpT3dSFRgMO8XPh']                  "
   ]
  },
  {
   "cell_type": "code",
   "execution_count": null,
   "metadata": {
    "collapsed": false
   },
   "outputs": [],
   "source": [
    "# 250 tracks in total\n",
    "relatedAritstsTracks = []\n",
    "\n",
    "# Iterate through each artist\n",
    "for artistId in twentyFiveRelatedArtistsIds:\n",
    "    # Update endpoint\n",
    "    endpoint = 'https://api.spotify.com/v1/artists/' + str(artistId) + '/top-tracks?country=US'\n",
    "\n",
    "    # Fetch data\n",
    "    response = requests.get(endpoint)\n",
    "    \n",
    "    # Add into python list\n",
    "    relatedAritstsTracks.extend((json.loads(response.text))['tracks'])"
   ]
  },
  {
   "cell_type": "code",
   "execution_count": null,
   "metadata": {
    "collapsed": false
   },
   "outputs": [],
   "source": [
    "trackDF = pd.DataFrame(relatedAritstsTracks)\n",
    "trackDF"
   ]
  },
  {
   "cell_type": "code",
   "execution_count": null,
   "metadata": {
    "collapsed": true
   },
   "outputs": [],
   "source": [
    "outputFile = open('Top 10 Tracks of 25 Related Artists.json', 'w')\n",
    "json.dump(relatedAritstsTracks, outputFile, indent = 4)\n",
    "outputFile.close()"
   ]
  },
  {
   "cell_type": "code",
   "execution_count": null,
   "metadata": {
    "collapsed": false
   },
   "outputs": [],
   "source": [
    "numOfRows, numOfColumns = trackDF.shape\n",
    "trackIds = []"
   ]
  },
  {
   "cell_type": "code",
   "execution_count": null,
   "metadata": {
    "collapsed": false
   },
   "outputs": [],
   "source": [
    "for index in range(numOfRows):\n",
    "    trackIds.append(trackDF.loc[index]['id'])"
   ]
  },
  {
   "cell_type": "code",
   "execution_count": null,
   "metadata": {
    "collapsed": false
   },
   "outputs": [],
   "source": [
    "relatedAritstsTracksFeatures = []\n",
    "accessToken = spotipy.oauth2.SpotifyClientCredentials(client_id=\"143de48b0ca04a1483644a02e4a4f318\", client_secret=\"d3ed5ec264d443c6ae9167a109ec401e\", proxies=None).get_access_token()"
   ]
  },
  {
   "cell_type": "code",
   "execution_count": null,
   "metadata": {
    "collapsed": true
   },
   "outputs": [],
   "source": [
    "requestClient = spotipy.client.Spotify(auth=accessToken, requests_session=True, client_credentials_manager=None, proxies=None, requests_timeout=None)"
   ]
  },
  {
   "cell_type": "code",
   "execution_count": null,
   "metadata": {
    "collapsed": false
   },
   "outputs": [],
   "source": [
    "for index in range(len(trackIds)):\n",
    "    relatedAritstsTracksFeatures.extend(requestClient.audio_features(tracks=[trackIds[index]]))\n",
    "#     endpoint = 'https://api.spotify.com/v1/audio-features/' + str(trackIds[i]) + \\\n",
    "#     ' -H ' + 'Authorization: Bearer ' + accessToken\n",
    "#     print(endpoint)\n",
    "#     response = requests.get(str(endpoint))  \n",
    "#     print(response)"
   ]
  },
  {
   "cell_type": "code",
   "execution_count": null,
   "metadata": {
    "collapsed": false
   },
   "outputs": [],
   "source": [
    "featureDF = pd.DataFrame(relatedAritstsTracksFeatures)\n",
    "featureDF"
   ]
  },
  {
   "cell_type": "code",
   "execution_count": null,
   "metadata": {
    "collapsed": true
   },
   "outputs": [],
   "source": [
    "outputFile = open('Features of Top 10 Tracks of 25 Related Artists.json', 'w')\n",
    "json.dump(relatedAritstsTracksFeatures, outputFile, indent = 4)\n",
    "outputFile.close()"
   ]
  }
 ],
 "metadata": {
  "kernelspec": {
   "display_name": "Python 3",
   "language": "python",
   "name": "python3"
  },
  "language_info": {
   "codemirror_mode": {
    "name": "ipython",
    "version": 3
   },
   "file_extension": ".py",
   "mimetype": "text/x-python",
   "name": "python",
   "nbconvert_exporter": "python",
   "pygments_lexer": "ipython3",
   "version": "3.6.0"
  }
 },
 "nbformat": 4,
 "nbformat_minor": 2
}
