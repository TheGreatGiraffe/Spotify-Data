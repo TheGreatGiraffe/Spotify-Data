{
 "cells": [
  {
   "cell_type": "code",
   "execution_count": 1,
   "metadata": {
    "collapsed": true
   },
   "outputs": [],
   "source": [
    "#!/usr/bin/env python3\n",
    "# -*- coding: utf-8 -*-\n",
    "# In track features: \n",
    "# Average danceability\n",
    "# Energy\n",
    "# Loudness\n",
    "# Liveness\n",
    "# Tempo\n",
    "# by Wuyi Zhang\n",
    "\n",
    "import pandas as pd\n",
    "import matplotlib.pyplot as plt\n",
    "import collections\n",
    "import json"
   ]
  },
  {
   "cell_type": "code",
   "execution_count": 2,
   "metadata": {
    "collapsed": true
   },
   "outputs": [],
   "source": [
    "topTracksFeatures_Filename = 'Features of Top 10 Tracks of Top 5 Artists.json'\n",
    "topTracksFeaturesForRelatedArtists_Filename = 'Features of Top 10 Tracks of 25 Related Artists.json'"
   ]
  },
  {
   "cell_type": "code",
   "execution_count": 3,
   "metadata": {
    "collapsed": true
   },
   "outputs": [],
   "source": [
    "trackFeatures = []"
   ]
  },
  {
   "cell_type": "code",
   "execution_count": 4,
   "metadata": {
    "collapsed": false
   },
   "outputs": [
    {
     "ename": "FileNotFoundError",
     "evalue": "[Errno 2] No such file or directory: 'Top Tracks Features.json'",
     "output_type": "error",
     "traceback": [
      "\u001b[0;31m---------------------------------------------------------------------------\u001b[0m",
      "\u001b[0;31mFileNotFoundError\u001b[0m                         Traceback (most recent call last)",
      "\u001b[0;32m<ipython-input-4-e2e7ca2038f8>\u001b[0m in \u001b[0;36m<module>\u001b[0;34m()\u001b[0m\n\u001b[0;32m----> 1\u001b[0;31m \u001b[0;32mwith\u001b[0m \u001b[0mopen\u001b[0m\u001b[0;34m(\u001b[0m\u001b[0mtopTracksFeatures_Filename\u001b[0m\u001b[0;34m)\u001b[0m \u001b[0;32mas\u001b[0m \u001b[0mdataFile\u001b[0m\u001b[0;34m:\u001b[0m\u001b[0;34m\u001b[0m\u001b[0m\n\u001b[0m\u001b[1;32m      2\u001b[0m     \u001b[0mtracks\u001b[0m \u001b[0;34m=\u001b[0m \u001b[0mjson\u001b[0m\u001b[0;34m.\u001b[0m\u001b[0mload\u001b[0m\u001b[0;34m(\u001b[0m\u001b[0mdataFile\u001b[0m\u001b[0;34m)\u001b[0m\u001b[0;34m[\u001b[0m\u001b[0;34m'audio_features'\u001b[0m\u001b[0;34m]\u001b[0m\u001b[0;34m\u001b[0m\u001b[0m\n\u001b[1;32m      3\u001b[0m     \u001b[0;32mfor\u001b[0m \u001b[0mtrack\u001b[0m \u001b[0;32min\u001b[0m \u001b[0mtracks\u001b[0m\u001b[0;34m:\u001b[0m\u001b[0;34m\u001b[0m\u001b[0m\n\u001b[1;32m      4\u001b[0m         \u001b[0mtrackFeatures\u001b[0m\u001b[0;34m.\u001b[0m\u001b[0mappend\u001b[0m\u001b[0;34m(\u001b[0m\u001b[0mtrack\u001b[0m\u001b[0;34m)\u001b[0m\u001b[0;34m\u001b[0m\u001b[0m\n",
      "\u001b[0;31mFileNotFoundError\u001b[0m: [Errno 2] No such file or directory: 'Top Tracks Features.json'"
     ]
    }
   ],
   "source": [
    "with open(topTracksFeatures_Filename) as dataFile:\n",
    "    tracks = json.load(dataFile)['audio_features']\n",
    "    for track in tracks:\n",
    "        trackFeatures.append(track)"
   ]
  },
  {
   "cell_type": "code",
   "execution_count": null,
   "metadata": {
    "collapsed": true
   },
   "outputs": [],
   "source": [
    "trackFeaturesPd = pd.DataFrame(trackFeatures)\n",
    "trackFeaturesPd"
   ]
  },
  {
   "cell_type": "code",
   "execution_count": null,
   "metadata": {
    "collapsed": true
   },
   "outputs": [],
   "source": [
    "with open(topTracksFeaturesForRelatedArtists_Filename) as dataFile:\n",
    "    tracks = json.load(dataFile)\n",
    "    for track in tracks:\n",
    "        trackFeatures.append(track)"
   ]
  },
  {
   "cell_type": "code",
   "execution_count": null,
   "metadata": {
    "collapsed": true
   },
   "outputs": [],
   "source": [
    "trackFeaturesPd = pd.DataFrame(trackFeatures)\n",
    "trackFeaturesPd"
   ]
  },
  {
   "cell_type": "code",
   "execution_count": null,
   "metadata": {
    "collapsed": false
   },
   "outputs": [],
   "source": [
    "averageDanceability = trackFeaturesPd['danceability'].mean()\n",
    "# Answer to Question 3\n",
    "averageDanceability"
   ]
  },
  {
   "cell_type": "code",
   "execution_count": null,
   "metadata": {
    "collapsed": false
   },
   "outputs": [],
   "source": [
    "# Answer to Question 3\n",
    "trackFeaturesPd['energy'].describe()"
   ]
  },
  {
   "cell_type": "code",
   "execution_count": null,
   "metadata": {
    "collapsed": true
   },
   "outputs": [],
   "source": [
    "energyVeryLow = 0.159000\n",
    "energyLow = 0.35924999999999996\n",
    "energyMedium = 0.5594999999999999\n",
    "energyHigh = 0.7597499999999999\n",
    "energyVeryHigh = 0.960000\n",
    "energyLowToHighCount = [0, 0, 0, 0]"
   ]
  },
  {
   "cell_type": "code",
   "execution_count": null,
   "metadata": {
    "collapsed": false
   },
   "outputs": [],
   "source": [
    "# Answer to Question 3\n",
    "trackFeaturesPd['loudness'].describe()"
   ]
  },
  {
   "cell_type": "code",
   "execution_count": null,
   "metadata": {
    "collapsed": true
   },
   "outputs": [],
   "source": [
    "loudnessVeryLow = -14.951000\n",
    "loudnessLow = -11.731\n",
    "loudnessMedium = -8.511\n",
    "loudnessHigh = -5.290999999999999\n",
    "loudnessVeryHigh = -2.071000\n",
    "loudnessLowToHighCount = [0, 0, 0, 0]"
   ]
  },
  {
   "cell_type": "code",
   "execution_count": null,
   "metadata": {
    "collapsed": false
   },
   "outputs": [],
   "source": [
    "# Answer to Question 3\n",
    "trackFeaturesPd['liveness'].describe()"
   ]
  },
  {
   "cell_type": "code",
   "execution_count": null,
   "metadata": {
    "collapsed": true
   },
   "outputs": [],
   "source": [
    "livenessVeryLow = 0.016000\n",
    "livenessLow = 0.23049999999999998\n",
    "livenessMedium = 0.44499999999999995\n",
    "livenessHigh = 0.6595\n",
    "livenessVeryHigh = 0.874000\n",
    "livenessLowToHighCount = [0, 0, 0, 0]"
   ]
  },
  {
   "cell_type": "code",
   "execution_count": null,
   "metadata": {
    "collapsed": false
   },
   "outputs": [],
   "source": [
    "# Answer to Question 3\n",
    "trackFeaturesPd['tempo'].describe()"
   ]
  },
  {
   "cell_type": "code",
   "execution_count": null,
   "metadata": {
    "collapsed": true
   },
   "outputs": [],
   "source": [
    "tempoVeryLow = 54.134000\n",
    "tempoLow = 93.288\n",
    "tempoMedium = 132.442\n",
    "tempoHigh = 171.596\n",
    "tempoVeryHigh = 210.750000\n",
    "tempoLowToHighCount = [0, 0, 0, 0]"
   ]
  },
  {
   "cell_type": "code",
   "execution_count": null,
   "metadata": {
    "collapsed": false
   },
   "outputs": [],
   "source": [
    "for _, track in trackFeaturesPd.iterrows():\n",
    "    if track['energy'] >= energyVeryLow and track['energy'] < energyLow:\n",
    "        energyLowToHighCount[0] += 1\n",
    "    elif track['energy'] >= energyLow and track['energy'] < energyMedium:\n",
    "        energyLowToHighCount[1] += 1\n",
    "    elif track['energy'] >= energyMedium and track['energy'] < energyHigh:\n",
    "        energyLowToHighCount[2] += 1\n",
    "    elif track['energy'] >= energyHigh and track['energy'] <= energyVeryHigh:\n",
    "        energyLowToHighCount[3] += 1\n",
    "    else:\n",
    "        pass\n",
    "    \n",
    "    if track['loudness'] >= loudnessVeryLow and track['loudness'] < loudnessLow:\n",
    "        loudnessLowToHighCount[0] += 1\n",
    "    elif track['loudness'] >= loudnessLow and track['loudness'] < loudnessMedium:\n",
    "        loudnessLowToHighCount[1] += 1\n",
    "    elif track['loudness'] >= loudnessMedium and track['loudness'] < loudnessHigh:\n",
    "        loudnessLowToHighCount[2] += 1\n",
    "    elif track['loudness'] >= loudnessHigh and track['loudness'] <= loudnessVeryHigh:\n",
    "        loudnessLowToHighCount[3] += 1\n",
    "    else:\n",
    "        pass\n",
    "    \n",
    "    if track['liveness'] >= livenessVeryLow and track['liveness'] < livenessLow:\n",
    "        livenessLowToHighCount[0] += 1\n",
    "    elif track['liveness'] >= livenessLow and track['liveness'] < livenessMedium:\n",
    "        livenessLowToHighCount[1] += 1\n",
    "    elif track['liveness'] >= livenessMedium and track['liveness'] < livenessHigh:\n",
    "        livenessLowToHighCount[2] += 1\n",
    "    elif track['liveness'] >= livenessHigh and track['liveness'] <= livenessVeryHigh:\n",
    "        livenessLowToHighCount[3] += 1\n",
    "    else:\n",
    "        pass\n",
    "    \n",
    "    if track['tempo'] >= tempoVeryLow and track['tempo'] < tempoLow:\n",
    "        tempoLowToHighCount[0] += 1\n",
    "    elif track['tempo'] >= tempoLow and track['tempo'] < tempoMedium:\n",
    "        tempoLowToHighCount[1] += 1\n",
    "    elif track['tempo'] >= tempoMedium and track['tempo'] < tempoHigh:\n",
    "        tempoLowToHighCount[2] += 1\n",
    "    elif track['tempo'] >= tempoHigh and track['tempo'] <= tempoVeryHigh:\n",
    "        tempoLowToHighCount[3] += 1\n",
    "    else:\n",
    "        pass"
   ]
  },
  {
   "cell_type": "code",
   "execution_count": null,
   "metadata": {
    "collapsed": false
   },
   "outputs": [],
   "source": [
    "# Answer to Question 3\n",
    "energyLowToHighCount"
   ]
  },
  {
   "cell_type": "code",
   "execution_count": null,
   "metadata": {
    "collapsed": false
   },
   "outputs": [],
   "source": [
    "# Answer to Question 3\n",
    "loudnessLowToHighCount"
   ]
  },
  {
   "cell_type": "code",
   "execution_count": null,
   "metadata": {
    "collapsed": false
   },
   "outputs": [],
   "source": [
    "# Answer to Question 3\n",
    "livenessLowToHighCount"
   ]
  },
  {
   "cell_type": "code",
   "execution_count": null,
   "metadata": {
    "collapsed": false
   },
   "outputs": [],
   "source": [
    "# Answer to Question 3\n",
    "tempoLowToHighCount"
   ]
  }
 ],
 "metadata": {
  "kernelspec": {
   "display_name": "Python 3",
   "language": "python",
   "name": "python3"
  },
  "language_info": {
   "codemirror_mode": {
    "name": "ipython",
    "version": 3
   },
   "file_extension": ".py",
   "mimetype": "text/x-python",
   "name": "python",
   "nbconvert_exporter": "python",
   "pygments_lexer": "ipython3",
   "version": "3.6.0"
  }
 },
 "nbformat": 4,
 "nbformat_minor": 2
}
