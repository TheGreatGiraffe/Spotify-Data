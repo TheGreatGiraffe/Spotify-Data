{
 "cells": [
  {
   "cell_type": "code",
   "execution_count": 1,
   "metadata": {
    "collapsed": true
   },
   "outputs": [],
   "source": [
    "#!/usr/bin/env python3\n",
    "# -*- coding: utf-8 -*-\n",
    "# Most common genres for new releases artists\n",
    "# by Wuyi Zhang\n",
    "\n",
    "import pandas as pd\n",
    "import matplotlib.pyplot as plt\n",
    "import collections\n",
    "import json"
   ]
  },
  {
   "cell_type": "code",
   "execution_count": 2,
   "metadata": {
    "collapsed": true
   },
   "outputs": [],
   "source": [
    "newReleaseArtists_Filename = 'New Releases Artists.json'\n",
    "artistsInfo = []"
   ]
  },
  {
   "cell_type": "code",
   "execution_count": 3,
   "metadata": {
    "collapsed": false
   },
   "outputs": [],
   "source": [
    "with open(newReleaseArtists_Filename) as dataFile:\n",
    "    artists = json.load(dataFile)\n",
    "    for artist in artists:\n",
    "        artistsInfo.append(artist)"
   ]
  },
  {
   "cell_type": "code",
   "execution_count": 5,
   "metadata": {
    "collapsed": true
   },
   "outputs": [],
   "source": [
    "artistsInfoDf = pd.DataFrame(artistsInfo)\n",
    "artistsInfoDf"
   ]
  },
  {
   "cell_type": "code",
   "execution_count": 7,
   "metadata": {
    "collapsed": true
   },
   "outputs": [],
   "source": [
    "frequencyDict = dict()"
   ]
  },
  {
   "cell_type": "code",
   "execution_count": 8,
   "metadata": {
    "collapsed": true
   },
   "outputs": [],
   "source": [
    "for genreList in artistsInfoDf['genres']:\n",
    "    for genre in genreList:\n",
    "        if genre in frequencyDict.keys():\n",
    "            frequencyDict[genre] += 1\n",
    "        else:\n",
    "            frequencyDict[genre] = 1\n",
    "frequencyDict"
   ]
  },
  {
   "cell_type": "code",
   "execution_count": 10,
   "metadata": {
    "collapsed": true
   },
   "outputs": [],
   "source": [
    "frequencyDictInversed = dict()\n",
    "for key in frequencyDict:\n",
    "    if frequencyDict[key] in frequencyDictInversed.keys():\n",
    "        frequencyDictInversed[frequencyDict[key]].append(key)\n",
    "    else:\n",
    "        frequencyDictInversed[frequencyDict[key]] = list()\n",
    "        frequencyDictInversed[frequencyDict[key]].append(key)\n",
    "frequencyDictInversed"
   ]
  },
  {
   "cell_type": "code",
   "execution_count": 12,
   "metadata": {
    "collapsed": true
   },
   "outputs": [],
   "source": [
    "# Answer to Question 4\n",
    "mostCommonGenre = 'pop'\n",
    "mostCommonGenreCount = 6"
   ]
  }
 ],
 "metadata": {
  "kernelspec": {
   "display_name": "Python 3",
   "language": "python",
   "name": "python3"
  },
  "language_info": {
   "codemirror_mode": {
    "name": "ipython",
    "version": 3
   },
   "file_extension": ".py",
   "mimetype": "text/x-python",
   "name": "python",
   "nbconvert_exporter": "python",
   "pygments_lexer": "ipython3",
   "version": "3.6.0"
  }
 },
 "nbformat": 4,
 "nbformat_minor": 2
}
